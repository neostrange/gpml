{
 "cells": [
  {
   "cell_type": "code",
   "execution_count": 2,
   "metadata": {},
   "outputs": [
    {
     "name": "stderr",
     "output_type": "stream",
     "text": [
      "/home/neo/environments/gpml_spacy3/venv/lib/python3.8/site-packages/tqdm/auto.py:22: TqdmWarning: IProgress not found. Please update jupyter and ipywidgets. See https://ipywidgets.readthedocs.io/en/stable/user_install.html\n",
      "  from .autonotebook import tqdm as notebook_tqdm\n"
     ]
    },
    {
     "name": "stdout",
     "output_type": "stream",
     "text": [
      "Found\n"
     ]
    }
   ],
   "source": [
    "import spacy\n",
    "nlp = spacy.load('en_core_web_trf')\n",
    "def dep_pattern(doc):\n",
    "  for i in range(len(doc)-1):\n",
    "    if doc[i].dep_ == 'nsubj' and doc[i+1].dep_ == 'aux' and  doc[i+2].dep_ == 'ROOT':\n",
    "      for tok in doc[i+2].children:\n",
    "        if tok.dep_ == 'dobj':\n",
    "          return True\n",
    "  return False\n",
    "doc = nlp(u'We can overtake them.')\n",
    "if dep_pattern(doc):\n",
    "  print('Found')\n",
    "else:\n",
    "  print('Not found')"
   ]
  },
  {
   "cell_type": "code",
   "execution_count": 5,
   "metadata": {},
   "outputs": [
    {
     "name": "stdout",
     "output_type": "stream",
     "text": [
      "Span:  We can overtake\n",
      "The positions in the doc are:  0 - 3\n"
     ]
    }
   ],
   "source": [
    "import spacy\n",
    "from spacy.matcher import Matcher\n",
    "nlp = spacy.load('en_core_web_trf')\n",
    "matcher = Matcher(nlp.vocab)\n",
    "pattern = [{\"DEP\": \"nsubj\"}, {\"DEP\": \"aux\"}, {\"DEP\": \"ROOT\"}]\n",
    "matcher.add(\"NsubjAuxRoot\", [pattern])\n",
    "doc = nlp(u\"We can overtake them.\")\n",
    "matches = matcher(doc)\n",
    "for match_id, start, end in matches:\n",
    "  span = doc[start:end]\n",
    "  print(\"Span: \", span.text)\n",
    "  print(\"The positions in the doc are: \", start, \"-\", end)"
   ]
  },
  {
   "cell_type": "code",
   "execution_count": 6,
   "metadata": {},
   "outputs": [
    {
     "name": "stdout",
     "output_type": "stream",
     "text": [
      "Found\n"
     ]
    }
   ],
   "source": [
    "# multi-pattern i.e., patterns based on both POS + DEP\n",
    "def dep_pattern(doc):\n",
    "  for i in range(len(doc)-1):\n",
    "    if doc[i].dep_ == 'nsubj' and doc[i+1].dep_ == 'aux' and  doc[i+2].dep_ == 'ROOT':\n",
    "      for tok in doc[i+2].children:\n",
    "        if tok.dep_ == 'dobj':\n",
    "          return True\n",
    "  return False\n",
    "def pos_pattern(doc):\n",
    "  for token in doc:\n",
    "    if token.dep_ == 'nsubj' and token.tag_ != 'PRP':\n",
    "      return False\n",
    "    if token.dep_ == 'aux' and token.tag_ != 'MD':\n",
    "      return False\n",
    "    if token.dep_ == 'ROOT' and token.tag_ != 'VB':\n",
    "      return False\n",
    "    if token.dep_ == 'dobj' and token.tag_ != 'PRP':\n",
    "      return False\n",
    "  return True\n",
    "#Testing code\n",
    "doc = nlp(u'We can overtake them.')\n",
    "if dep_pattern(doc) and pos_pattern(doc):\n",
    "  print('Found')\n",
    "else:\n",
    "  print('Not found')"
   ]
  },
  {
   "cell_type": "code",
   "execution_count": 4,
   "metadata": {},
   "outputs": [
    {
     "name": "stdout",
     "output_type": "stream",
     "text": [
      "[Self-driving cars, insurance liability, manufacturers]\n",
      "Self-driving cars cars nsubj shift\n",
      "insurance liability liability dobj shift\n",
      "manufacturers manufacturers pobj toward\n"
     ]
    }
   ],
   "source": [
    "# extracting noun chunks, their text, their dep, and their head word\n",
    "doc = nlp(\"Self-driving cars shift insurance liability toward manufacturers.\")\n",
    "\n",
    "print(list(doc.noun_chunks))\n",
    "\n",
    "for chunk in doc.noun_chunks:\n",
    "    print(chunk.text, chunk.root.text, chunk.root.dep_, chunk.root.head.text)"
   ]
  },
  {
   "cell_type": "code",
   "execution_count": 5,
   "metadata": {},
   "outputs": [
    {
     "name": "stdout",
     "output_type": "stream",
     "text": [
      "Myriam nsubj saw VERB []\n",
      "saw ROOT saw VERB [Myriam, Clement, with, .]\n",
      "Clement dobj saw VERB []\n",
      "with prep saw VERB [telescope]\n",
      "a det telescope NOUN []\n",
      "telescope pobj with ADP [a]\n",
      ". punct saw VERB []\n"
     ]
    }
   ],
   "source": [
    "# token meta-data along with the children of each node\n",
    "doc = nlp(\"Myriam saw Clement with a telescope.\")\n",
    "for token in doc:\n",
    "    print(token.text, token.dep_, token.head.text, token.head.pos_, [child for child in token.children])"
   ]
  },
  {
   "cell_type": "code",
   "execution_count": 9,
   "metadata": {},
   "outputs": [
    {
     "name": "stdout",
     "output_type": "stream",
     "text": [
      "{shift}\n"
     ]
    }
   ],
   "source": [
    "# how to find a root verb(head) of a sentence using nsubj dependency\n",
    "\n",
    "from spacy.symbols import nsubj, VERB \n",
    "doc = nlp(\"Self-driving cars shift insurance liability toward manufacturers.\")\n",
    "verbs = set()\n",
    "for possible_subject in doc:\n",
    "    if possible_subject.dep == nsubj and possible_subject.head.pos == VERB: \n",
    "        verbs.add(possible_subject.head)\n",
    "\n",
    "print(verbs)"
   ]
  },
  {
   "cell_type": "code",
   "execution_count": 10,
   "metadata": {},
   "outputs": [
    {
     "name": "stdout",
     "output_type": "stream",
     "text": [
      "Self npadvmod 0 0 ['driving', 'cars', 'shift']\n",
      "- punct 0 0 ['driving', 'cars', 'shift']\n",
      "driving amod 2 0 ['cars', 'shift']\n",
      "cars nsubj 1 0 ['shift']\n"
     ]
    }
   ],
   "source": [
    "doc = nlp('Self-driving cars shift insurance liability toward manufacturers.')\n",
    "root = [token for token in doc if token.head == token][0] \n",
    "subject = list(root.lefts)[0] \n",
    "for descendant in subject.subtree:\n",
    "    assert subject is descendant or subject.is_ancestor(descendant) \n",
    "    print(descendant.text, descendant.dep_, descendant.n_lefts, descendant.n_rights, \n",
    "    [ancestor.text for ancestor in descendant.ancestors])"
   ]
  },
  {
   "cell_type": "code",
   "execution_count": 32,
   "metadata": {},
   "outputs": [
    {
     "name": "stdout",
     "output_type": "stream",
     "text": [
      "Explore\n",
      "differences\n",
      "[differences, in, words, that, represent, people, ,, places, and, things, (, nouns, ,, including, pronouns, ), ,, happenings, and, states, (, verbs, ), ,, qualities, (, adjectives, ), and, details, such, as, when, ,, where, and, how, (, adverbs, )]\n",
      "direct object rights:  [in]\n",
      "context:  ['in words']\n"
     ]
    }
   ],
   "source": [
    "#doc = nlp(\"Measure and compare the lengths and capacities of pairs of objects using uniform informal units\")\n",
    "doc = nlp(\"Explore differences in words that represent people, places and things (nouns, including pronouns), happenings and states (verbs), qualities (adjectives) and details such as when, where and how (adverbs)\")\n",
    "#doc = nlp('Explore the different contribution of words and images to meaning in stories and informative texts.')\n",
    "root = [token for token in doc if token.head == token][0] \n",
    "\n",
    "print(root.text)\n",
    "\n",
    "directObject = list(root.rights)[0]\n",
    "\n",
    "print(directObject.text)\n",
    "\n",
    "print(list(directObject.subtree))\n",
    "\n",
    "#for descendant in directObject.subtree:\n",
    " #   print(list(descendant.rights))\n",
    "\n",
    "context = []\n",
    "\n",
    "print('direct object rights: ', list(directObject.rights))\n",
    "\n",
    "for node in directObject.rights:\n",
    "    children = node.children\n",
    "    for child in children:\n",
    "        if child.dep_ == 'pobj':\n",
    "            context.append(node.text +\" \" + child.text)\n",
    "            if child.conjuncts:\n",
    "                for conjunct in child.conjuncts:\n",
    "                  context.append(node.text +\" \" + conjunct.text)  \n",
    "\n",
    "print(\"context: \", context)\n",
    "\n",
    "\n"
   ]
  },
  {
   "cell_type": "code",
   "execution_count": 8,
   "metadata": {},
   "outputs": [
    {
     "name": "stdout",
     "output_type": "stream",
     "text": [
      "Apple Computer ORG\n",
      "today DATE\n",
      "MacBook PRODUCT\n",
      "Macbook PRODUCT\n",
      "Macbook Pro PRODUCT\n",
      "iBook PRODUCT\n",
      "Intel ORG\n",
      "1,099 MONEY\n",
      "Macbook PRODUCT\n",
      "13.3\" QUANTITY\n",
      "Pro PRODUCT\n",
      "15\" QUANTITY\n",
      "17\" QUANTITY\n",
      "two CARDINAL\n",
      "2 GHz QUANTITY\n",
      "1.83 CARDINAL\n",
      "2 GHz QUANTITY\n",
      "only one CARDINAL\n",
      "PowerPC ORG\n",
      "Intel ORG\n",
      "PowerMac G5 PRODUCT\n",
      "\n",
      "\n",
      " now printing noun chunks...... \n",
      "Apple Computer Computer\n",
      "the new MacBook line line\n",
      "which which\n",
      "the Macbook Macbook\n",
      "Macbook Pro Pro\n",
      "It It\n",
      "the successor successor\n",
      "the iBook line line\n",
      "Intel Core Duo processors processors\n",
      "a host host\n",
      "features features\n",
      "a price price\n",
      "The Macbook Macbook\n",
      "a 13.3\" widescreen display display\n",
      "the Pro Pro\n",
      "either 15\" or 17\" displays displays\n",
      "It It\n",
      "two colors colors\n",
      "Black Black\n",
      "2 GHz model model\n",
      "White White\n",
      "1.83 and 2 GHz models models\n",
      "This release release\n",
      "only one PowerPC processor computer computer\n",
      "that that\n",
      "the transition transition\n",
      "Intel chips chips\n",
      "the PowerMac G5 G5\n"
     ]
    }
   ],
   "source": [
    "text = \"\"\"Apple Computer today introduced the new MacBook line, which includes the Macbook and Macbook Pro. It is the successor to the iBook line and contains Intel Core Duo processors and a host of features, and starting at a price of $1,099. The Macbook features a 13.3\" widescreen display, while the Pro can be purchased with either 15\" or 17\" displays. It comes in two colors: Black (2 GHz model only) and White (1.83 and 2 GHz models). This release leaves only one PowerPC processor computer that has not made the transition to Intel chips, the PowerMac G5.\"\"\"\n",
    "\n",
    "doc = nlp(text)\n",
    "\n",
    "for ent in doc.ents:\n",
    "    print(ent.text, ent.label_)\n",
    "\n",
    "print (\"\\n\\n now printing noun chunks...... \")\n",
    "for chunk in doc.noun_chunks:\n",
    "    print(chunk.text, chunk.root.text)"
   ]
  },
  {
   "cell_type": "code",
   "execution_count": 27,
   "metadata": {},
   "outputs": [
    {
     "name": "stdout",
     "output_type": "stream",
     "text": [
      "Apple Computer today introduced the new MacBook line, which includes the Macbook and Macbook Pro.\n",
      "0   Apple False\n",
      "1   Computer False\n",
      "2   today False\n",
      "3   introduced False\n",
      "4   the False\n",
      "5   new False\n",
      "6   MacBook False\n",
      "7   line False\n",
      "8   , True\n",
      "9   which False\n",
      "10   includes False\n",
      "11   the False\n",
      "12   Macbook False\n",
      "13   and False\n",
      "14   Macbook False\n",
      "15   Pro False\n",
      "16   . True\n",
      "It is the successor to the iBook line and contains Intel Core Duo processors and a host of features, and starting at a price of $1,099.\n",
      "17   It False\n",
      "18   is False\n",
      "19   the False\n",
      "20   successor False\n",
      "21   to False\n",
      "22   the False\n",
      "23   iBook False\n",
      "24   line False\n",
      "25   and False\n",
      "26   contains False\n",
      "27   Intel False\n",
      "28   Core False\n",
      "29   Duo False\n",
      "30   processors False\n",
      "31   and False\n",
      "32   a False\n",
      "33   host False\n",
      "34   of False\n",
      "35   features False\n",
      "36   , True\n",
      "37   and False\n",
      "38   starting False\n",
      "39   at False\n",
      "40   a False\n",
      "41   price False\n",
      "42   of False\n",
      "43   $ False\n",
      "44   1,099 False\n",
      "45   . True\n",
      "The Macbook features a 13.3\" widescreen display, while the Pro can be purchased with either 15\" or 17\" displays.\n",
      "46   The False\n",
      "47   Macbook False\n",
      "48   features False\n",
      "49   a False\n",
      "50   13.3 False\n",
      "51   \" True\n",
      "52   widescreen False\n",
      "53   display False\n",
      "54   , True\n",
      "55   while False\n",
      "56   the False\n",
      "57   Pro False\n",
      "58   can False\n",
      "59   be False\n",
      "60   purchased False\n",
      "61   with False\n",
      "62   either False\n",
      "63   15 False\n",
      "64   \" True\n",
      "65   or False\n",
      "66   17 False\n",
      "67   \" True\n",
      "68   displays False\n",
      "69   . True\n",
      "It comes in two colors: Black (2 GHz model only) and White (1.83 and 2 GHz models).\n",
      "70   It False\n",
      "71   comes False\n",
      "72   in False\n",
      "73   two False\n",
      "74   colors False\n",
      "75   : True\n",
      "76   Black False\n",
      "77   ( True\n",
      "78   2 False\n",
      "79   GHz False\n",
      "80   model False\n",
      "81   only False\n",
      "82   ) True\n",
      "83   and False\n",
      "84   White False\n",
      "85   ( True\n",
      "86   1.83 False\n",
      "87   and False\n",
      "88   2 False\n",
      "89   GHz False\n",
      "90   models False\n",
      "91   ) True\n",
      "92   . True\n",
      "This release leaves only one PowerPC processor computer that has not made the transition to Intel chips, the PowerMac G5.\n",
      "93   This False\n",
      "94   release False\n",
      "95   leaves False\n",
      "96   only False\n",
      "97   one False\n",
      "98   PowerPC False\n",
      "99   processor False\n",
      "100   computer False\n",
      "101   that False\n",
      "102   has False\n",
      "103   not False\n",
      "104   made False\n",
      "105   the False\n",
      "106   transition False\n",
      "107   to False\n",
      "108   Intel False\n",
      "109   chips False\n",
      "110   , True\n",
      "111   the False\n",
      "112   PowerMac False\n",
      "113   G5 False\n",
      "114   . True\n"
     ]
    }
   ],
   "source": [
    "import spacy\n",
    "nlp = spacy.load('en_core_web_trf')\n",
    "text = \"\"\"Apple Computer today introduced the new MacBook line, which includes the Macbook and Macbook Pro. It is the successor to the iBook line and contains Intel Core Duo processors and a host of features, and starting at a price of $1,099. The Macbook features a 13.3\" widescreen display, while the Pro can be purchased with either 15\" or 17\" displays. It comes in two colors: Black (2 GHz model only) and White (1.83 and 2 GHz models). This release leaves only one PowerPC processor computer that has not made the transition to Intel chips, the PowerMac G5.\"\"\"\n",
    "\n",
    "corpus = nlp.pipe([text])\n",
    "\n",
    "for doc in corpus:\n",
    "    for sent in doc.sents:\n",
    "        print(sent.text)\n",
    "        for tok in sent:\n",
    "            #print(tok.idx)\n",
    "            print(tok.i, \" \", tok.text, tok.is_punct)\n",
    "            "
   ]
  },
  {
   "cell_type": "code",
   "execution_count": 25,
   "metadata": {},
   "outputs": [
    {
     "name": "stdout",
     "output_type": "stream",
     "text": [
      "(_39:TagOccurrence {id: '3_2_212', index: 212, is_stop: true, lemma: 'at', pos: 'IN', text: 'at', tok_index_doc: 39, tok_index_sent: 22})\n"
     ]
    }
   ],
   "source": [
    "from py2neo import Graph\n",
    "from py2neo import *\n",
    "\n",
    "graph = Graph(\"bolt://10.1.48.224:7687\", auth=(\"neo4j\", \"neo123\"))\n",
    "index = 39\n",
    "nodes = NodeMatcher(graph)\n",
    "#token_node = nodes.match(\"TagOccurrence\", token_index_doc=index).first\n",
    "\n",
    "query = \"match (x:TagOccurrence {tok_index_doc:\" + str(index) + \"}) return x\"\n",
    "\n",
    "token_node= graph.evaluate(query) \n",
    "\n",
    "#token_node= graph.evaluate(\"match (x:TagOccurrence {tok_index_doc:\" ,index , \"}) return x\") \n",
    "\n",
    "print(token_node)"
   ]
  }
 ],
 "metadata": {
  "kernelspec": {
   "display_name": "Python 3.8.10 ('venv': venv)",
   "language": "python",
   "name": "python3"
  },
  "language_info": {
   "codemirror_mode": {
    "name": "ipython",
    "version": 3
   },
   "file_extension": ".py",
   "mimetype": "text/x-python",
   "name": "python",
   "nbconvert_exporter": "python",
   "pygments_lexer": "ipython3",
   "version": "3.8.10"
  },
  "orig_nbformat": 4,
  "vscode": {
   "interpreter": {
    "hash": "ac311bd4cf06ac5ef38658be0e3c84de8924258d4d0dd52ea8382e20482ad5df"
   }
  }
 },
 "nbformat": 4,
 "nbformat_minor": 2
}
