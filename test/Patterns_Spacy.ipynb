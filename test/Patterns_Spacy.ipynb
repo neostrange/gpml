{
 "cells": [
  {
   "cell_type": "code",
   "execution_count": 2,
   "metadata": {},
   "outputs": [
    {
     "name": "stdout",
     "output_type": "stream",
     "text": [
      "Found\n"
     ]
    }
   ],
   "source": [
    "import spacy\n",
    "nlp = spacy.load('en_core_web_trf')\n",
    "def dep_pattern(doc):\n",
    "  for i in range(len(doc)-1):\n",
    "    if doc[i].dep_ == 'nsubj' and doc[i+1].dep_ == 'aux' and  doc[i+2].dep_ == 'ROOT':\n",
    "      for tok in doc[i+2].children:\n",
    "        if tok.dep_ == 'dobj':\n",
    "          return True\n",
    "  return False\n",
    "doc = nlp(u'We can overtake them.')\n",
    "if dep_pattern(doc):\n",
    "  print('Found')\n",
    "else:\n",
    "  print('Not found')"
   ]
  },
  {
   "cell_type": "code",
   "execution_count": 5,
   "metadata": {},
   "outputs": [
    {
     "name": "stdout",
     "output_type": "stream",
     "text": [
      "Span:  We can overtake\n",
      "The positions in the doc are:  0 - 3\n"
     ]
    }
   ],
   "source": [
    "import spacy\n",
    "from spacy.matcher import Matcher\n",
    "nlp = spacy.load('en_core_web_trf')\n",
    "matcher = Matcher(nlp.vocab)\n",
    "pattern = [{\"DEP\": \"nsubj\"}, {\"DEP\": \"aux\"}, {\"DEP\": \"ROOT\"}]\n",
    "matcher.add(\"NsubjAuxRoot\", [pattern])\n",
    "doc = nlp(u\"We can overtake them.\")\n",
    "matches = matcher(doc)\n",
    "for match_id, start, end in matches:\n",
    "  span = doc[start:end]\n",
    "  print(\"Span: \", span.text)\n",
    "  print(\"The positions in the doc are: \", start, \"-\", end)"
   ]
  },
  {
   "cell_type": "code",
   "execution_count": 6,
   "metadata": {},
   "outputs": [
    {
     "name": "stdout",
     "output_type": "stream",
     "text": [
      "Found\n"
     ]
    }
   ],
   "source": [
    "# multi-pattern i.e., patterns based on both POS + DEP\n",
    "def dep_pattern(doc):\n",
    "  for i in range(len(doc)-1):\n",
    "    if doc[i].dep_ == 'nsubj' and doc[i+1].dep_ == 'aux' and  doc[i+2].dep_ == 'ROOT':\n",
    "      for tok in doc[i+2].children:\n",
    "        if tok.dep_ == 'dobj':\n",
    "          return True\n",
    "  return False\n",
    "def pos_pattern(doc):\n",
    "  for token in doc:\n",
    "    if token.dep_ == 'nsubj' and token.tag_ != 'PRP':\n",
    "      return False\n",
    "    if token.dep_ == 'aux' and token.tag_ != 'MD':\n",
    "      return False\n",
    "    if token.dep_ == 'ROOT' and token.tag_ != 'VB':\n",
    "      return False\n",
    "    if token.dep_ == 'dobj' and token.tag_ != 'PRP':\n",
    "      return False\n",
    "  return True\n",
    "#Testing code\n",
    "doc = nlp(u'We can overtake them.')\n",
    "if dep_pattern(doc) and pos_pattern(doc):\n",
    "  print('Found')\n",
    "else:\n",
    "  print('Not found')"
   ]
  }
 ],
 "metadata": {
  "kernelspec": {
   "display_name": "Python 3.8.10 ('venv': venv)",
   "language": "python",
   "name": "python3"
  },
  "language_info": {
   "codemirror_mode": {
    "name": "ipython",
    "version": 3
   },
   "file_extension": ".py",
   "mimetype": "text/x-python",
   "name": "python",
   "nbconvert_exporter": "python",
   "pygments_lexer": "ipython3",
   "version": "3.8.10"
  },
  "orig_nbformat": 4,
  "vscode": {
   "interpreter": {
    "hash": "ac311bd4cf06ac5ef38658be0e3c84de8924258d4d0dd52ea8382e20482ad5df"
   }
  }
 },
 "nbformat": 4,
 "nbformat_minor": 2
}
